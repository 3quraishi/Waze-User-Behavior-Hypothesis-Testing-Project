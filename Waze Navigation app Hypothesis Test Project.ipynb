{
 "cells": [
  {
   "cell_type": "markdown",
   "metadata": {
    "id": "DtNBZFHO3M7n"
   },
   "source": [
    "# **Waze app User Churn Project**"
   ]
  },
  {
   "cell_type": "markdown",
   "metadata": {},
   "source": [
    "# Introduction\n",
    "Welcome to the Waze Project!\n",
    "\n",
    "Please join me as I embark into a detailed analysis of user behavior on Waze, an app that guides millions to their destinations safely and efficiently. While Waze is a travel companion for many, there is a constant challenge of keeping the users engaged to prevent churn - defined as when users stop using the app.\n",
    "\n",
    "While the overarching aim is to decode the reasons behind users' discontinuation from using Waze, this project focuses on analyzing the relationship between the mean number of rides and device type. Specifically, the leadership at Waze is eager to determine whether a statistically significant difference exists in the mean number of rides between iPhone® users and Android™ users. To investigate this query, a two-sample Hypothesis Test (t-test) is employed, analyzing the difference in the mean number of rides between users of the two platforms.\n",
    "\n",
    "Follow me on this exciting journey as I navigate through the data, unearthing valuable insights into user behavior and driving preferences across different device platforms!\n",
    "\n",
    "\n",
    "\n",
    "***PS. For a snapshot of the project, please refer to the*** [Executive Summary](https://docs.google.com/presentation/d/1pU2vm_nDcQgG1N-pioFL_IJ4WleWW100nERStDCIbWI/edit?usp=sharing&resourcekey=0-yd_P5p-R78m3-ezD3sRkkg)."
   ]
  },
  {
   "cell_type": "markdown",
   "metadata": {
    "id": "rgSbVJvomcVa"
   },
   "source": [
    "### **This project has three parts**\n",
    "\n",
    "\n",
    "\n",
    "**Part 1:** Imports and Exploratory Data Analysis (EDA)\n",
    "* Import data and necessary packages for subsequent analysis and Hypothesis Testing. \n",
    "\n",
    "**Part 2:** Conduct Hypothesis testing\n",
    "* Compute Descriptive Statistics.\n",
    "\n",
    "* Formulate the Null and Alternative Hypotheses. \n",
    "\n",
    "**Part 3:** Communicate insights with stakeholders\n",
    "* Communicate findings to the Waze Leadership.\n"
   ]
  },
  {
   "cell_type": "markdown",
   "metadata": {
    "id": "xgQEdIN7f1Jq"
   },
   "source": [
    "# **Part 1. Imports, data loading and Exploratory Data Analysis** "
   ]
  },
  {
   "cell_type": "markdown",
   "metadata": {},
   "source": [
    "In this section, I will initialize the Python environment with the necessary libraries required for analysis. Subsequently, I will load the dataset and convert it into a format conducive to data manipulation and analysis. Additionally, an initial analysis will be conducted to comprehend the underlying characteristics of the dataset."
   ]
  },
  {
   "cell_type": "code",
   "execution_count": 6,
   "metadata": {
    "id": "1Q-GL2UrgWWG"
   },
   "outputs": [],
   "source": [
    "# Importing the required packages and libraries \n",
    "\n",
    "import pandas as pd\n",
    "import seaborn as sns\n",
    "import scipy.stats as stats\n",
    "import matplotlib.pyplot as plt"
   ]
  },
  {
   "cell_type": "code",
   "execution_count": 7,
   "metadata": {
    "id": "2qAt6Upaeg6U"
   },
   "outputs": [],
   "source": [
    "# Loading the dataset into a dataframe\n",
    "\n",
    "df = pd.read_csv('C:/Users/Owner/Desktop/PYTHON/advncd google analytics/The Power of Statistics/waze_dataset.csv')\n"
   ]
  },
  {
   "cell_type": "code",
   "execution_count": 8,
   "metadata": {},
   "outputs": [
    {
     "name": "stdout",
     "output_type": "stream",
     "text": [
      "The number of rows in the dataset are: 14999\n",
      "The number of columns in the dataset are: 13\n"
     ]
    }
   ],
   "source": [
    "# Verifying and validating that the dataset was loaded properly\n",
    "\n",
    "print(f'The number of rows in the dataset are: {df.shape[0]}')\n",
    "print(f'The number of columns in the dataset are: {df.shape[1]}')"
   ]
  },
  {
   "cell_type": "code",
   "execution_count": 9,
   "metadata": {
    "id": "rX5xJnWUXxsW"
   },
   "outputs": [
    {
     "data": {
      "text/html": [
       "<div>\n",
       "<style scoped>\n",
       "    .dataframe tbody tr th:only-of-type {\n",
       "        vertical-align: middle;\n",
       "    }\n",
       "\n",
       "    .dataframe tbody tr th {\n",
       "        vertical-align: top;\n",
       "    }\n",
       "\n",
       "    .dataframe thead th {\n",
       "        text-align: right;\n",
       "    }\n",
       "</style>\n",
       "<table border=\"1\" class=\"dataframe\">\n",
       "  <thead>\n",
       "    <tr style=\"text-align: right;\">\n",
       "      <th></th>\n",
       "      <th>ID</th>\n",
       "      <th>label</th>\n",
       "      <th>sessions</th>\n",
       "      <th>drives</th>\n",
       "      <th>total_sessions</th>\n",
       "      <th>n_days_after_onboarding</th>\n",
       "      <th>total_navigations_fav1</th>\n",
       "      <th>total_navigations_fav2</th>\n",
       "      <th>driven_km_drives</th>\n",
       "      <th>duration_minutes_drives</th>\n",
       "      <th>activity_days</th>\n",
       "      <th>driving_days</th>\n",
       "      <th>device</th>\n",
       "    </tr>\n",
       "  </thead>\n",
       "  <tbody>\n",
       "    <tr>\n",
       "      <th>0</th>\n",
       "      <td>0</td>\n",
       "      <td>retained</td>\n",
       "      <td>283</td>\n",
       "      <td>226</td>\n",
       "      <td>296.748273</td>\n",
       "      <td>2276</td>\n",
       "      <td>208</td>\n",
       "      <td>0</td>\n",
       "      <td>2628.845068</td>\n",
       "      <td>1985.775061</td>\n",
       "      <td>28</td>\n",
       "      <td>19</td>\n",
       "      <td>Android</td>\n",
       "    </tr>\n",
       "    <tr>\n",
       "      <th>1</th>\n",
       "      <td>1</td>\n",
       "      <td>retained</td>\n",
       "      <td>133</td>\n",
       "      <td>107</td>\n",
       "      <td>326.896596</td>\n",
       "      <td>1225</td>\n",
       "      <td>19</td>\n",
       "      <td>64</td>\n",
       "      <td>13715.920550</td>\n",
       "      <td>3160.472914</td>\n",
       "      <td>13</td>\n",
       "      <td>11</td>\n",
       "      <td>iPhone</td>\n",
       "    </tr>\n",
       "    <tr>\n",
       "      <th>2</th>\n",
       "      <td>2</td>\n",
       "      <td>retained</td>\n",
       "      <td>114</td>\n",
       "      <td>95</td>\n",
       "      <td>135.522926</td>\n",
       "      <td>2651</td>\n",
       "      <td>0</td>\n",
       "      <td>0</td>\n",
       "      <td>3059.148818</td>\n",
       "      <td>1610.735904</td>\n",
       "      <td>14</td>\n",
       "      <td>8</td>\n",
       "      <td>Android</td>\n",
       "    </tr>\n",
       "    <tr>\n",
       "      <th>3</th>\n",
       "      <td>3</td>\n",
       "      <td>retained</td>\n",
       "      <td>49</td>\n",
       "      <td>40</td>\n",
       "      <td>67.589221</td>\n",
       "      <td>15</td>\n",
       "      <td>322</td>\n",
       "      <td>7</td>\n",
       "      <td>913.591123</td>\n",
       "      <td>587.196542</td>\n",
       "      <td>7</td>\n",
       "      <td>3</td>\n",
       "      <td>iPhone</td>\n",
       "    </tr>\n",
       "    <tr>\n",
       "      <th>4</th>\n",
       "      <td>4</td>\n",
       "      <td>retained</td>\n",
       "      <td>84</td>\n",
       "      <td>68</td>\n",
       "      <td>168.247020</td>\n",
       "      <td>1562</td>\n",
       "      <td>166</td>\n",
       "      <td>5</td>\n",
       "      <td>3950.202008</td>\n",
       "      <td>1219.555924</td>\n",
       "      <td>27</td>\n",
       "      <td>18</td>\n",
       "      <td>Android</td>\n",
       "    </tr>\n",
       "  </tbody>\n",
       "</table>\n",
       "</div>"
      ],
      "text/plain": [
       "   ID     label  sessions  drives  total_sessions  n_days_after_onboarding  \\\n",
       "0   0  retained       283     226      296.748273                     2276   \n",
       "1   1  retained       133     107      326.896596                     1225   \n",
       "2   2  retained       114      95      135.522926                     2651   \n",
       "3   3  retained        49      40       67.589221                       15   \n",
       "4   4  retained        84      68      168.247020                     1562   \n",
       "\n",
       "   total_navigations_fav1  total_navigations_fav2  driven_km_drives  \\\n",
       "0                     208                       0       2628.845068   \n",
       "1                      19                      64      13715.920550   \n",
       "2                       0                       0       3059.148818   \n",
       "3                     322                       7        913.591123   \n",
       "4                     166                       5       3950.202008   \n",
       "\n",
       "   duration_minutes_drives  activity_days  driving_days   device  \n",
       "0              1985.775061             28            19  Android  \n",
       "1              3160.472914             13            11   iPhone  \n",
       "2              1610.735904             14             8  Android  \n",
       "3               587.196542              7             3   iPhone  \n",
       "4              1219.555924             27            18  Android  "
      ]
     },
     "execution_count": 9,
     "metadata": {},
     "output_type": "execute_result"
    }
   ],
   "source": [
    "# Generating the top five rows of the dataframe to get a preliminary understanding of the dataset\n",
    "\n",
    "df.head()"
   ]
  },
  {
   "cell_type": "code",
   "execution_count": 10,
   "metadata": {},
   "outputs": [
    {
     "data": {
      "text/html": [
       "<div>\n",
       "<style scoped>\n",
       "    .dataframe tbody tr th:only-of-type {\n",
       "        vertical-align: middle;\n",
       "    }\n",
       "\n",
       "    .dataframe tbody tr th {\n",
       "        vertical-align: top;\n",
       "    }\n",
       "\n",
       "    .dataframe thead th {\n",
       "        text-align: right;\n",
       "    }\n",
       "</style>\n",
       "<table border=\"1\" class=\"dataframe\">\n",
       "  <thead>\n",
       "    <tr style=\"text-align: right;\">\n",
       "      <th></th>\n",
       "      <th>ID</th>\n",
       "      <th>sessions</th>\n",
       "      <th>drives</th>\n",
       "      <th>total_sessions</th>\n",
       "      <th>n_days_after_onboarding</th>\n",
       "      <th>total_navigations_fav1</th>\n",
       "      <th>total_navigations_fav2</th>\n",
       "      <th>driven_km_drives</th>\n",
       "      <th>duration_minutes_drives</th>\n",
       "      <th>activity_days</th>\n",
       "      <th>driving_days</th>\n",
       "    </tr>\n",
       "  </thead>\n",
       "  <tbody>\n",
       "    <tr>\n",
       "      <th>count</th>\n",
       "      <td>14999.000000</td>\n",
       "      <td>14999.000000</td>\n",
       "      <td>14999.000000</td>\n",
       "      <td>14999.000000</td>\n",
       "      <td>14999.000000</td>\n",
       "      <td>14999.000000</td>\n",
       "      <td>14999.000000</td>\n",
       "      <td>14999.000000</td>\n",
       "      <td>14999.000000</td>\n",
       "      <td>14999.000000</td>\n",
       "      <td>14999.000000</td>\n",
       "    </tr>\n",
       "    <tr>\n",
       "      <th>mean</th>\n",
       "      <td>7499.000000</td>\n",
       "      <td>80.633776</td>\n",
       "      <td>67.281152</td>\n",
       "      <td>189.964447</td>\n",
       "      <td>1749.837789</td>\n",
       "      <td>121.605974</td>\n",
       "      <td>29.672512</td>\n",
       "      <td>4039.340921</td>\n",
       "      <td>1860.976012</td>\n",
       "      <td>15.537102</td>\n",
       "      <td>12.179879</td>\n",
       "    </tr>\n",
       "    <tr>\n",
       "      <th>std</th>\n",
       "      <td>4329.982679</td>\n",
       "      <td>80.699065</td>\n",
       "      <td>65.913872</td>\n",
       "      <td>136.405128</td>\n",
       "      <td>1008.513876</td>\n",
       "      <td>148.121544</td>\n",
       "      <td>45.394651</td>\n",
       "      <td>2502.149334</td>\n",
       "      <td>1446.702288</td>\n",
       "      <td>9.004655</td>\n",
       "      <td>7.824036</td>\n",
       "    </tr>\n",
       "    <tr>\n",
       "      <th>min</th>\n",
       "      <td>0.000000</td>\n",
       "      <td>0.000000</td>\n",
       "      <td>0.000000</td>\n",
       "      <td>0.220211</td>\n",
       "      <td>4.000000</td>\n",
       "      <td>0.000000</td>\n",
       "      <td>0.000000</td>\n",
       "      <td>60.441250</td>\n",
       "      <td>18.282082</td>\n",
       "      <td>0.000000</td>\n",
       "      <td>0.000000</td>\n",
       "    </tr>\n",
       "    <tr>\n",
       "      <th>25%</th>\n",
       "      <td>3749.500000</td>\n",
       "      <td>23.000000</td>\n",
       "      <td>20.000000</td>\n",
       "      <td>90.661156</td>\n",
       "      <td>878.000000</td>\n",
       "      <td>9.000000</td>\n",
       "      <td>0.000000</td>\n",
       "      <td>2212.600607</td>\n",
       "      <td>835.996260</td>\n",
       "      <td>8.000000</td>\n",
       "      <td>5.000000</td>\n",
       "    </tr>\n",
       "    <tr>\n",
       "      <th>50%</th>\n",
       "      <td>7499.000000</td>\n",
       "      <td>56.000000</td>\n",
       "      <td>48.000000</td>\n",
       "      <td>159.568115</td>\n",
       "      <td>1741.000000</td>\n",
       "      <td>71.000000</td>\n",
       "      <td>9.000000</td>\n",
       "      <td>3493.858085</td>\n",
       "      <td>1478.249859</td>\n",
       "      <td>16.000000</td>\n",
       "      <td>12.000000</td>\n",
       "    </tr>\n",
       "    <tr>\n",
       "      <th>75%</th>\n",
       "      <td>11248.500000</td>\n",
       "      <td>112.000000</td>\n",
       "      <td>93.000000</td>\n",
       "      <td>254.192341</td>\n",
       "      <td>2623.500000</td>\n",
       "      <td>178.000000</td>\n",
       "      <td>43.000000</td>\n",
       "      <td>5289.861262</td>\n",
       "      <td>2464.362632</td>\n",
       "      <td>23.000000</td>\n",
       "      <td>19.000000</td>\n",
       "    </tr>\n",
       "    <tr>\n",
       "      <th>max</th>\n",
       "      <td>14998.000000</td>\n",
       "      <td>743.000000</td>\n",
       "      <td>596.000000</td>\n",
       "      <td>1216.154633</td>\n",
       "      <td>3500.000000</td>\n",
       "      <td>1236.000000</td>\n",
       "      <td>415.000000</td>\n",
       "      <td>21183.401890</td>\n",
       "      <td>15851.727160</td>\n",
       "      <td>31.000000</td>\n",
       "      <td>30.000000</td>\n",
       "    </tr>\n",
       "  </tbody>\n",
       "</table>\n",
       "</div>"
      ],
      "text/plain": [
       "                 ID      sessions        drives  total_sessions  \\\n",
       "count  14999.000000  14999.000000  14999.000000    14999.000000   \n",
       "mean    7499.000000     80.633776     67.281152      189.964447   \n",
       "std     4329.982679     80.699065     65.913872      136.405128   \n",
       "min        0.000000      0.000000      0.000000        0.220211   \n",
       "25%     3749.500000     23.000000     20.000000       90.661156   \n",
       "50%     7499.000000     56.000000     48.000000      159.568115   \n",
       "75%    11248.500000    112.000000     93.000000      254.192341   \n",
       "max    14998.000000    743.000000    596.000000     1216.154633   \n",
       "\n",
       "       n_days_after_onboarding  total_navigations_fav1  \\\n",
       "count             14999.000000            14999.000000   \n",
       "mean               1749.837789              121.605974   \n",
       "std                1008.513876              148.121544   \n",
       "min                   4.000000                0.000000   \n",
       "25%                 878.000000                9.000000   \n",
       "50%                1741.000000               71.000000   \n",
       "75%                2623.500000              178.000000   \n",
       "max                3500.000000             1236.000000   \n",
       "\n",
       "       total_navigations_fav2  driven_km_drives  duration_minutes_drives  \\\n",
       "count            14999.000000      14999.000000             14999.000000   \n",
       "mean                29.672512       4039.340921              1860.976012   \n",
       "std                 45.394651       2502.149334              1446.702288   \n",
       "min                  0.000000         60.441250                18.282082   \n",
       "25%                  0.000000       2212.600607               835.996260   \n",
       "50%                  9.000000       3493.858085              1478.249859   \n",
       "75%                 43.000000       5289.861262              2464.362632   \n",
       "max                415.000000      21183.401890             15851.727160   \n",
       "\n",
       "       activity_days  driving_days  \n",
       "count   14999.000000  14999.000000  \n",
       "mean       15.537102     12.179879  \n",
       "std         9.004655      7.824036  \n",
       "min         0.000000      0.000000  \n",
       "25%         8.000000      5.000000  \n",
       "50%        16.000000     12.000000  \n",
       "75%        23.000000     19.000000  \n",
       "max        31.000000     30.000000  "
      ]
     },
     "execution_count": 10,
     "metadata": {},
     "output_type": "execute_result"
    }
   ],
   "source": [
    "# Generating Summary Statistics for the numerical variables in the dataset\n",
    "\n",
    "df.describe()"
   ]
  },
  {
   "cell_type": "code",
   "execution_count": 11,
   "metadata": {},
   "outputs": [
    {
     "name": "stdout",
     "output_type": "stream",
     "text": [
      "<class 'pandas.core.frame.DataFrame'>\n",
      "RangeIndex: 14999 entries, 0 to 14998\n",
      "Data columns (total 13 columns):\n",
      " #   Column                   Non-Null Count  Dtype  \n",
      "---  ------                   --------------  -----  \n",
      " 0   ID                       14999 non-null  int64  \n",
      " 1   label                    14299 non-null  object \n",
      " 2   sessions                 14999 non-null  int64  \n",
      " 3   drives                   14999 non-null  int64  \n",
      " 4   total_sessions           14999 non-null  float64\n",
      " 5   n_days_after_onboarding  14999 non-null  int64  \n",
      " 6   total_navigations_fav1   14999 non-null  int64  \n",
      " 7   total_navigations_fav2   14999 non-null  int64  \n",
      " 8   driven_km_drives         14999 non-null  float64\n",
      " 9   duration_minutes_drives  14999 non-null  float64\n",
      " 10  activity_days            14999 non-null  int64  \n",
      " 11  driving_days             14999 non-null  int64  \n",
      " 12  device                   14999 non-null  object \n",
      "dtypes: float64(3), int64(8), object(2)\n",
      "memory usage: 1.5+ MB\n"
     ]
    }
   ],
   "source": [
    "# Checking for misssing values in the dataset\n",
    "\n",
    "df.info()"
   ]
  },
  {
   "cell_type": "code",
   "execution_count": 12,
   "metadata": {},
   "outputs": [
    {
     "name": "stdout",
     "output_type": "stream",
     "text": [
      "The percentage of missing values in the label column is: 4.666977798519902\n"
     ]
    }
   ],
   "source": [
    "# The label column is the only column which has missing values\n",
    "# Calculating the percentage of missing values in the label column  \n",
    "\n",
    "is_null = df['label'].isnull().sum()\n",
    "percentage = is_null/df.shape[0] * 100\n",
    "print(f\"The percentage of missing values in the label column is: {percentage}\") \n",
    "\n",
    "# The percentage is less than 5%, so it might not significantly impact the analysis in this context"
   ]
  },
  {
   "cell_type": "markdown",
   "metadata": {},
   "source": [
    "***For a comprehensive Exploratory Data Analysis (EDA) and detailed visualizations of the dataset, please refer to a previously compiled notebook***. [Please click on the following link for detailed EDA & visualizations](https://github.com/3quraishi/Waze-EDA-and-User-Churn-Analysis/blob/main/Waze%20Portfolio%20Project.ipynb). In this current notebook, we will build upon that groundwork and delve further into Hypothesis Testing and subsequent analyses."
   ]
  },
  {
   "cell_type": "markdown",
   "metadata": {},
   "source": [
    "Having established the context and provided a link to the detailed EDA, let's get into the specifics of our objective and the preparatory steps needed for our Hypothesis Testing."
   ]
  },
  {
   "cell_type": "markdown",
   "metadata": {},
   "source": [
    "**Note:** In the dataset, `device` is a categorical variable with the labels `iPhone` and `Android`.\n",
    "\n",
    "* For computations involved in a t-test, numerical data is necessary. The t-test is inherently a method for comparing means, and means can only be calculated from numerical data. Therefore, we need to convert the categorical labels to numbers."
   ]
  },
  {
   "cell_type": "code",
   "execution_count": 13,
   "metadata": {
    "id": "piHSZbnjEXw-"
   },
   "outputs": [],
   "source": [
    "# Creating a numerical representation for device types\n",
    "# I've decided to use the following mapping, Android: 2, iPhone: 1\n",
    "\n",
    "map_dictionary = {'Android': 2, 'iPhone' : 1}\n",
    "\n",
    "# Duplicating the device column\n",
    "\n",
    "df['device_type'] = df['device']\n",
    "\n",
    "# Mapping the labels to their numerical representation\n",
    "\n",
    "df['device_type'] = df['device'].map(map_dictionary)"
   ]
  },
  {
   "cell_type": "markdown",
   "metadata": {},
   "source": [
    "Using Box Plots, I compare the distributions of the number of rides between Android and iPhone users side by side. This will help identify any outliers and visualize the median and IQR for both groups."
   ]
  },
  {
   "cell_type": "code",
   "execution_count": 14,
   "metadata": {},
   "outputs": [
    {
     "data": {
      "image/png": "[encoded data removed]",
      "text/plain": [
       "<Figure size 720x432 with 1 Axes>"
      ]
     },
     "metadata": {
      "needs_background": "light"
     },
     "output_type": "display_data"
    }
   ],
   "source": [
    "# Creating the box plot\n",
    "\n",
    "colors = ['#ADD8E6', 'orange']# 'ADD8E6' is the HEX code for light blue\n",
    "\n",
    "# Displaying the bar plot\n",
    "plt.figure(figsize=(10, 6))\n",
    "sns.boxplot(x='device_type', y='drives', data=df, palette=colors, order=[2, 1])# 2 for Android & 1 for iPhone as per mapping\n",
    "\n",
    "# Adding the title and labels\n",
    "plt.title('Distribution of Drives by Device Type', fontsize=16)\n",
    "plt.xticks(ticks=[0, 1], labels=['Android', 'iPhone'], fontsize=16)\n",
    "plt.xlabel('Device Type', fontsize=16)\n",
    "plt.ylabel('Number of Drives', fontsize=16)\n",
    "plt.show()"
   ]
  },
  {
   "cell_type": "markdown",
   "metadata": {},
   "source": [
    "The box plots reveal almost identical distributions of drives for both Android and iPhone users. The median, interquartile range, and overall spread of the data are nearly indistinguishable between the two groups. The median, interquartile range, and overall spread of the data are almost the same between the two groups. This suggests that, in terms of the number of drives, user behavior is consistent across both device platforms - **but, this is exactly what I need to confirm using Hypothesis testing**."
   ]
  },
  {
   "cell_type": "markdown",
   "metadata": {},
   "source": [
    "While the visual representations offer compelling insights, it's crucial to delve deeper into the quantitative specifics. By analyzing the actual mean values associated with each device type, I can further solidify my observations and attain a more thorough understanding."
   ]
  },
  {
   "cell_type": "markdown",
   "metadata": {
    "id": "-fFiNg4hdGBK"
   },
   "source": [
    "As I investigate further, I'm keen to understand the direct correlation between device type and the frequency of drives. To shed light on this, I've computed the average number of drives associated with each device type."
   ]
  },
  {
   "cell_type": "code",
   "execution_count": 15,
   "metadata": {
    "id": "2LGEWrdVXgI2"
   },
   "outputs": [
    {
     "name": "stdout",
     "output_type": "stream",
     "text": [
      "Android mean: 66.23183780739629\n",
      "iPhone mean: 67.85907775020678\n"
     ]
    }
   ],
   "source": [
    "# Calculating the average drives or ridership by device type\n",
    "\n",
    "android_mean = df[df['device_type'] == 2]['drives'].mean()\n",
    "iphone_mean = df[df['device_type'] == 1]['drives'].mean()\n",
    "\n",
    "print(f\"Android mean: {android_mean}\")\n",
    "print(f\"iPhone mean: {iphone_mean}\")"
   ]
  },
  {
   "cell_type": "code",
   "execution_count": 16,
   "metadata": {},
   "outputs": [
    {
     "name": "stdout",
     "output_type": "stream",
     "text": [
      "device_type\n",
      "1    67.859078\n",
      "2    66.231838\n",
      "Name: drives, dtype: float64\n"
     ]
    }
   ],
   "source": [
    "# Using the groupby method to calculate the average drives or ridership by device type\n",
    "\n",
    "averages = df.groupby('device_type')['drives'].mean()\n",
    "print(averages)"
   ]
  },
  {
   "cell_type": "markdown",
   "metadata": {},
   "source": [
    "**Note:**  Both methods are used to calculate the mean ridership by device type. The first approach calculates the mean for each device type separately by filtering the DataFrame for each device and then computing the mean. The second approach uses the groupby method, which automatically groups the data by unique device types and calculates the mean for each group. Despite the different approaches, both methods yield the same result, verifying the consistency and accuracy of my computations."
   ]
  },
  {
   "cell_type": "code",
   "execution_count": 17,
   "metadata": {},
   "outputs": [
    {
     "data": {
      "image/png": "[encoded data removed]",
      "text/plain": [
       "<Figure size 720x432 with 1 Axes>"
      ]
     },
     "metadata": {
      "needs_background": "light"
     },
     "output_type": "display_data"
    }
   ],
   "source": [
    "# Creating the bar plot\n",
    "devices = ['Android', 'iPhone']\n",
    "mean_values = [android_mean, iphone_mean]\n",
    "colors = ['#ADD8E6', 'orange']  # 'ADD8E6' is the HEX code for light blue\n",
    "\n",
    "# Displaying the bar plot\n",
    "plt.figure(figsize=(10, 6))\n",
    "sns.barplot(x=devices, y=mean_values, palette=colors)\n",
    "\n",
    "# Adding the title and labels\n",
    "plt.title('Average Drives/Ridership by Device Type', fontsize=16)\n",
    "plt.xlabel('Device Type',fontsize=16)\n",
    "plt.ylabel('Average Drives/Ridership', fontsize=16)\n",
    "plt.xticks(fontsize=14)\n",
    "plt.show()"
   ]
  },
  {
   "cell_type": "markdown",
   "metadata": {
    "id": "Z_u-zWvGdfII"
   },
   "source": [
    "Based on the averages shown, it appears that drivers who use an iPhone device to interact with the app have a slightly higher number of drives on average. However, this difference might arise from random sampling, rather than being a true difference in the number of drives. To assess and confirm whether the difference is statistically significant, we will conduct a Hypothesis Test."
   ]
  },
  {
   "cell_type": "markdown",
   "metadata": {},
   "source": [
    "# **Part 2. Conduct Hypothesis Testing**"
   ]
  },
  {
   "cell_type": "markdown",
   "metadata": {
    "id": "QpFRQDaNzX6p"
   },
   "source": [
    "The goal is to conduct a two-sample t-test. The **rationale** for using a **two-sample t-test** is the following:\n",
    "We are interested in determining if there's a significant difference in the mean number of rides between iPhone users and Android users. This involves comparing the means of two independent groups (iPhone users and Android users), making it a perfect candidate for a two-sample t-test. A one-sample t-test wouldn't be appropriate here because we aren't comparing one group's mean to a known or hypothesized value; instead, we're comparing the means of two separate groups.\n",
    "\n",
    "The steps for conducting a Hypothesis Test:\n",
    "\n",
    "1.   State the Null Hypothesis and the Alternative Hypothesis\n",
    "2.   Choose a significance level\n",
    "3.   Perform the test and find the p-value\n",
    "4.   Reject or fail to reject the Null Hypothesis"
   ]
  },
  {
   "cell_type": "markdown",
   "metadata": {
    "id": "SkDeGggZYM84"
   },
   "source": [
    "**Stating the Hypotheses:**\n",
    "\n",
    "$H_0$ (Null Hypothesis): There is no difference between the average drives between Android and iPhone users.\n",
    "\n",
    "\n",
    "$H_a$ (Alternate Hypothesis): There is a difference between average drives between Android and iPhone users."
   ]
  },
  {
   "cell_type": "markdown",
   "metadata": {},
   "source": [
    "**Significance level:**\n",
    "\n",
    "I have chosen 5% as the significance level for the two-sample t-test."
   ]
  },
  {
   "cell_type": "markdown",
   "metadata": {
    "id": "IVHpnfvNeTUA"
   },
   "source": [
    "**Performing the t-test:**"
   ]
  },
  {
   "cell_type": "code",
   "execution_count": 18,
   "metadata": {
    "id": "rdlsXg7Dhbrd"
   },
   "outputs": [
    {
     "data": {
      "text/plain": [
       "Ttest_indResult(statistic=1.4635232068852353, pvalue=0.1433519726802059)"
      ]
     },
     "execution_count": 18,
     "metadata": {},
     "output_type": "execute_result"
    }
   ],
   "source": [
    "# Isolating the drives column for iPhone users\n",
    "\n",
    "drivesiPhone = df[df['device_type'] == 1]['drives']\n",
    "\n",
    "# Isolating the drives column for Android users\n",
    "\n",
    "drivesAndroid = df[df['device_type'] == 2]['drives']\n",
    "\n",
    "# Performing the t-test\n",
    "\n",
    "stats.ttest_ind(a=drivesiPhone, b=drivesAndroid, equal_var=False)"
   ]
  },
  {
   "cell_type": "markdown",
   "metadata": {
    "id": "SGLHv2FY1P2-"
   },
   "source": [
    "The p-value obtained from the t-test is 0.1433 (or 14.33%). This is greater than the significance level of 0.05 (or 5%). Therefore, we fail to reject the Null Hypothesis. From the t-test, we can conclude that there is no statistically significant difference in the mean drives between Android and iPhone users."
   ]
  },
  {
   "cell_type": "markdown",
   "metadata": {
    "id": "h1PRfiD3hcwE"
   },
   "source": [
    "# **Task 3. Communicating insights with stakeholders**"
   ]
  },
  {
   "cell_type": "markdown",
   "metadata": {
    "id": "-CgNingVY4Bw"
   },
   "source": [
    "- **Drivers who use iPhone® to use the app have similar number of drives as those who use Android™.**\n",
    "\n",
    "\n",
    "- **Examine platform features or pain points to enhance user experience and boost retention.**\n",
    "\n",
    "\n",
    "- **Analyze in-app metrics to pinpoint trends that guide user engagement, conducting t-tests where necessary.**"
   ]
  },
  {
   "cell_type": "markdown",
   "metadata": {},
   "source": [
    "# Next steps"
   ]
  },
  {
   "cell_type": "markdown",
   "metadata": {},
   "source": [
    "➡️ User Feedback Collection: Initiate surveys or feedback sessions specifically targeting iPhone and Android users to understand any platform-specific preferences or issues.\n",
    "\n",
    "➡️ Feature Enhancement: Based on the feedback and the in-app metrics analysis, prioritize the development of features that can potentially boost user engagement and satisfaction.\n",
    "\n",
    "➡️ Further Statistical Analysis: As we uncover more about user behaviors and preferences, design and conduct additional hypothesis tests to ensure our strategies are validated with statistical rigor.\n",
    "\n",
    "➡️ Machine Learning: Churn Prediction Model - develop a predictive model to identify users who are likely to churn in the near future. This allows for targeted interventions, such as sending personalized offers or notifications to re-engage them. User Segmentation - use clustering algorithms to segment the user base into distinct groups based on their behavior. This can help in tailoring marketing campaigns or app features to specific segments."
   ]
  }
 ],
 "metadata": {
  "colab": {
   "provenance": [
    {
     "file_id": "1VMShPM3amGvcOZx0J5yHz1kb04rzCFvN",
     "timestamp": 1671052168408
    },
    {
     "file_id": "1su07KaK4RI6MI85tMf2H19qop9LcqqDy",
     "timestamp": 1669648371757
    },
    {
     "file_id": "1f5FzGbEQi1DvhHY8u-K32sklfpgir_pK",
     "timestamp": 1669589913543
    }
   ]
  },
  "kernelspec": {
   "display_name": "Python 3 (ipykernel)",
   "language": "python",
   "name": "python3"
  },
  "language_info": {
   "codemirror_mode": {
    "name": "ipython",
    "version": 3
   },
   "file_extension": ".py",
   "mimetype": "text/x-python",
   "name": "python",
   "nbconvert_exporter": "python",
   "pygments_lexer": "ipython3",
   "version": "3.9.12"
  }
 },
 "nbformat": 4,
 "nbformat_minor": 1
}
